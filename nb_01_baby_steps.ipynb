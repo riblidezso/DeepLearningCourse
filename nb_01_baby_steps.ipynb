{
  "nbformat": 4,
  "nbformat_minor": 0,
  "metadata": {
    "colab": {
      "name": "nb_01_baby_steps.ipynb",
      "version": "0.3.2",
      "provenance": [],
      "collapsed_sections": [],
      "include_colab_link": true
    },
    "kernelspec": {
      "name": "python3",
      "display_name": "Python 3"
    },
    "accelerator": "GPU"
  },
  "cells": [
    {
      "cell_type": "markdown",
      "metadata": {
        "id": "view-in-github",
        "colab_type": "text"
      },
      "source": [
        "<a href=\"https://colab.research.google.com/github/riblidezso/DeepLearningCourse/blob/master/nb_01_baby_steps.ipynb\" target=\"_parent\"><img src=\"https://colab.research.google.com/assets/colab-badge.svg\" alt=\"Open In Colab\"/></a>"
      ]
    },
    {
      "metadata": {
        "id": "SlY6-tlM0Pcf",
        "colab_type": "text"
      },
      "cell_type": "markdown",
      "source": [
        "#  Baby steps in deep learning\n",
        "\n"
      ]
    },
    {
      "metadata": {
        "id": "tORtAyzl-2hK",
        "colab_type": "text"
      },
      "cell_type": "markdown",
      "source": [
        "### Load useful python packages"
      ]
    },
    {
      "metadata": {
        "id": "lSTgGCOC0XX0",
        "colab_type": "code",
        "colab": {
          "base_uri": "https://localhost:8080/",
          "height": 34
        },
        "outputId": "c0edc71f-921f-48c6-f5ca-797aed0cf5b8"
      },
      "cell_type": "code",
      "source": [
        "# plotting and numerical basics\n",
        "%pylab inline"
      ],
      "execution_count": 1,
      "outputs": [
        {
          "output_type": "stream",
          "text": [
            "Populating the interactive namespace from numpy and matplotlib\n"
          ],
          "name": "stdout"
        }
      ]
    },
    {
      "metadata": {
        "id": "eaRg3s1N0evC",
        "colab_type": "code",
        "colab": {}
      },
      "cell_type": "code",
      "source": [
        "# machine learning baselines\n",
        "import sklearn\n",
        "from sklearn.linear_model import LogisticRegression\n",
        "from sklearn.ensemble import RandomForestClassifier\n",
        "from sklearn.ensemble import GradientBoostingClassifier"
      ],
      "execution_count": 0,
      "outputs": []
    },
    {
      "metadata": {
        "id": "wBGBOvdV1UWO",
        "colab_type": "code",
        "colab": {}
      },
      "cell_type": "code",
      "source": [
        "# keras deep learning framework (with tensorflow backend)\n",
        "import keras\n",
        "from keras.models import Model\n",
        "from keras.layers import Dense, Dropout, Flatten\n",
        "from keras.layers import Conv2D, MaxPooling2D\n",
        "from keras import backend as K"
      ],
      "execution_count": 0,
      "outputs": []
    },
    {
      "metadata": {
        "id": "UpdlNa1D4Pf2",
        "colab_type": "code",
        "colab": {}
      },
      "cell_type": "code",
      "source": [
        "from IPython.display import SVG\n",
        "from keras.utils.vis_utils import model_to_dot"
      ],
      "execution_count": 0,
      "outputs": []
    },
    {
      "metadata": {
        "id": "g3xs6GXc5UX9",
        "colab_type": "text"
      },
      "cell_type": "markdown",
      "source": [
        "# MNIST handwritten digits dataset"
      ]
    },
    {
      "metadata": {
        "id": "IOprHOQQ084n",
        "colab_type": "code",
        "colab": {}
      },
      "cell_type": "code",
      "source": [
        "from keras.datasets import mnist\n",
        "# the data, split between train and test sets\n",
        "(x_train, y_train), (x_test, y_test) = mnist.load_data()"
      ],
      "execution_count": 0,
      "outputs": []
    },
    {
      "metadata": {
        "id": "WxYY1xqa4pXi",
        "colab_type": "text"
      },
      "cell_type": "markdown",
      "source": [
        "### Check some handwritten digits"
      ]
    },
    {
      "metadata": {
        "id": "QmFz_b464bvI",
        "colab_type": "code",
        "colab": {
          "base_uri": "https://localhost:8080/",
          "height": 282
        },
        "outputId": "7d852f38-7b28-4243-8c9c-e02382955e8c"
      },
      "cell_type": "code",
      "source": [
        "i = 4\n",
        "imshow(x_train[i])\n",
        "print('Label:', y_train[i] )"
      ],
      "execution_count": 56,
      "outputs": [
        {
          "output_type": "stream",
          "text": [
            "Label: 9\n"
          ],
          "name": "stdout"
        },
        {
          "output_type": "display_data",
          "data": {
            "image/png": "[encoded data removed]",
            "text/plain": [
              "<matplotlib.figure.Figure at 0x7fa0c00c0a20>"
            ]
          },
          "metadata": {
            "tags": []
          }
        }
      ]
    },
    {
      "metadata": {
        "id": "SV94_cdD5IG6",
        "colab_type": "text"
      },
      "cell_type": "markdown",
      "source": [
        "### Some more info about the dataset"
      ]
    },
    {
      "metadata": {
        "id": "XWsLOlrq5Mg3",
        "colab_type": "code",
        "colab": {
          "base_uri": "https://localhost:8080/",
          "height": 68
        },
        "outputId": "463f4b6d-6580-42d1-ded8-0934e64db7f8"
      },
      "cell_type": "code",
      "source": [
        "print('x_train shape:', x_train.shape)\n",
        "print(x_train.shape[0], 'train samples')\n",
        "print(x_test.shape[0], 'test samples')"
      ],
      "execution_count": 57,
      "outputs": [
        {
          "output_type": "stream",
          "text": [
            "x_train shape: (60000, 28, 28)\n",
            "60000 train samples\n",
            "10000 test samples\n"
          ],
          "name": "stdout"
        }
      ]
    },
    {
      "metadata": {
        "id": "wvkn-WsC_fTZ",
        "colab_type": "text"
      },
      "cell_type": "markdown",
      "source": [
        "### Normalize pixel values to 0-1 range"
      ]
    },
    {
      "metadata": {
        "id": "iUtzCbS76B9Z",
        "colab_type": "code",
        "colab": {}
      },
      "cell_type": "code",
      "source": [
        "x_train = x_train.astype('float32')\n",
        "x_test = x_test.astype('float32')\n",
        "x_train = x_train/255\n",
        "x_test = x_test/255"
      ],
      "execution_count": 0,
      "outputs": []
    },
    {
      "metadata": {
        "id": "Z_YFFQAb_i4-",
        "colab_type": "text"
      },
      "cell_type": "markdown",
      "source": [
        "## Define functions for 'simple' machine learning baselines"
      ]
    },
    {
      "metadata": {
        "id": "Cxunmr078_MG",
        "colab_type": "code",
        "colab": {}
      },
      "cell_type": "code",
      "source": [
        "def train_baseline(model, x_train, y_train, N_train=60000, **kwargs):\n",
        "  \"\"\"Train a baseline sklearn model.\"\"\"\n",
        "  x_train_flat = x_train.reshape(x_train.shape[0],-1)  # flatten\n",
        "  clf = model(**kwargs)  # init machine learning model\n",
        "  clf.fit(x_train_flat[:N_train],y_train[:N_train])  # train it\n",
        "  return clf\n",
        "\n",
        "\n",
        "def test_baseline(clf, x_test, y_test):\n",
        "  \"\"\"Evaluate a baseline sklearn model.\"\"\"\n",
        "  x_test_flat = x_test.reshape(x_test.shape[0],-1)  # flatten\n",
        "  y_pred = clf.predict(x_test_flat)  # make predictions\n",
        "  acc = np.equal(y_pred, y_test).mean()  # calculate accuracy\n",
        "  print(clf.__class__.__name__, 'accuracy',acc)"
      ],
      "execution_count": 0,
      "outputs": []
    },
    {
      "metadata": {
        "id": "pKJ-f-BA_pUT",
        "colab_type": "text"
      },
      "cell_type": "markdown",
      "source": [
        "### Test logistic regression"
      ]
    },
    {
      "metadata": {
        "id": "22FhFqH_5dVX",
        "colab_type": "code",
        "colab": {
          "base_uri": "https://localhost:8080/",
          "height": 68
        },
        "outputId": "ffb9d94f-0e87-4c14-e0d3-4df9e2e07993"
      },
      "cell_type": "code",
      "source": [
        "%%time\n",
        "clf = train_baseline(LogisticRegression, x_train, y_train)\n",
        "test_baseline(clf, x_test, y_test)"
      ],
      "execution_count": 91,
      "outputs": [
        {
          "output_type": "stream",
          "text": [
            "LogisticRegression accuracy 0.9201\n",
            "CPU times: user 2min 21s, sys: 95.8 ms, total: 2min 21s\n",
            "Wall time: 2min 21s\n"
          ],
          "name": "stdout"
        }
      ]
    },
    {
      "metadata": {
        "id": "UsVCO4fa_-S-",
        "colab_type": "text"
      },
      "cell_type": "markdown",
      "source": [
        "### Test Random Forest"
      ]
    },
    {
      "metadata": {
        "id": "GR4-9Pc48VWu",
        "colab_type": "code",
        "colab": {
          "base_uri": "https://localhost:8080/",
          "height": 68
        },
        "outputId": "1133b061-01dc-4a06-87e1-2cc4a95ba59f"
      },
      "cell_type": "code",
      "source": [
        "%%time\n",
        "clf = train_baseline(RandomForestClassifier, x_train, y_train,\n",
        "                    n_jobs=-1, n_estimators = 300)\n",
        "test_baseline(clf, x_test, y_test)"
      ],
      "execution_count": 95,
      "outputs": [
        {
          "output_type": "stream",
          "text": [
            "RandomForestClassifier accuracy 0.971\n",
            "CPU times: user 4min 14s, sys: 448 ms, total: 4min 15s\n",
            "Wall time: 2min 10s\n"
          ],
          "name": "stdout"
        }
      ]
    },
    {
      "metadata": {
        "id": "cFnv2QJ_Cs7J",
        "colab_type": "text"
      },
      "cell_type": "markdown",
      "source": [
        "# See neural networks"
      ]
    },
    {
      "metadata": {
        "id": "xnPKDYvU1eCQ",
        "colab_type": "code",
        "colab": {}
      },
      "cell_type": "code",
      "source": [
        "# input image dimensions\n",
        "img_rows, img_cols = 28, 28\n",
        "input_shape = (img_rows, img_cols, 1)\n",
        "\n",
        "batch_size = 128\n",
        "num_classes = 10\n",
        "epochs = 12"
      ],
      "execution_count": 0,
      "outputs": []
    },
    {
      "metadata": {
        "id": "-I-4QhtH1JMq",
        "colab_type": "code",
        "colab": {
          "base_uri": "https://localhost:8080/",
          "height": 68
        },
        "outputId": "fcc921e3-8770-44f4-c003-fe90565ef30a"
      },
      "cell_type": "code",
      "source": [
        "print('x_train shape:', x_train.shape)\n",
        "print(x_train.shape[0], 'train samples')\n",
        "print(x_test.shape[0], 'test samples')\n",
        "\n",
        "x_train = x_train.reshape(x_train.shape[0], img_rows, img_cols, 1)\n",
        "x_test = x_test.reshape(x_test.shape[0], img_rows, img_cols, 1)"
      ],
      "execution_count": 9,
      "outputs": [
        {
          "output_type": "stream",
          "text": [
            "x_train shape: (60000, 28, 28)\n",
            "60000 train samples\n",
            "10000 test samples\n"
          ],
          "name": "stdout"
        }
      ]
    },
    {
      "metadata": {
        "id": "MDzodQKC1Kin",
        "colab_type": "code",
        "colab": {}
      },
      "cell_type": "code",
      "source": [
        "model = Sequential()\n",
        "model.add(Conv2D(32, kernel_size=(3, 3),\n",
        "                 activation='relu',\n",
        "                 input_shape=input_shape))\n",
        "model.add(Conv2D(64, (3, 3), activation='relu'))\n",
        "model.add(MaxPooling2D(pool_size=(2, 2)))\n",
        "model.add(Dropout(0.25))\n",
        "model.add(Flatten())\n",
        "model.add(Dense(128, activation='relu'))\n",
        "model.add(Dropout(0.5))\n",
        "model.add(Dense(num_classes, activation='softmax'))"
      ],
      "execution_count": 0,
      "outputs": []
    },
    {
      "metadata": {
        "id": "b6MUhTJf1PbK",
        "colab_type": "code",
        "colab": {}
      },
      "cell_type": "code",
      "source": [
        "model.compile(loss=keras.losses.sparse_categorical_crossentropy,\n",
        "              optimizer=keras.optimizers.Adadelta(),\n",
        "              metrics=['accuracy'])"
      ],
      "execution_count": 0,
      "outputs": []
    },
    {
      "metadata": {
        "id": "DTdg9rVa1Qd-",
        "colab_type": "code",
        "colab": {
          "base_uri": "https://localhost:8080/",
          "height": 1000
        },
        "outputId": "592897ab-1ef6-4974-9293-a3ccff01cb64"
      },
      "cell_type": "code",
      "source": [
        "model.fit(x_train, y_train,\n",
        "          batch_size=batch_size,\n",
        "          epochs=epochs,\n",
        "          verbose=1,\n",
        "          validation_data=(x_test, y_test))\n",
        "score = model.evaluate(x_test, y_test, verbose=0)\n",
        "print('Test loss:', score[0])\n",
        "print('Test accuracy:', score[1])"
      ],
      "execution_count": 12,
      "outputs": [
        {
          "output_type": "stream",
          "text": [
            "Train on 60000 samples, validate on 10000 samples\n",
            "Epoch 1/12\n",
            "60000/60000 [==============================] - 13s 218us/step - loss: 0.2622 - acc: 0.9190 - val_loss: 0.0611 - val_acc: 0.9798\n",
            "Epoch 2/12\n",
            "60000/60000 [==============================] - 9s 146us/step - loss: 0.0885 - acc: 0.9736 - val_loss: 0.0382 - val_acc: 0.9866\n",
            "Epoch 3/12\n",
            "60000/60000 [==============================] - 9s 145us/step - loss: 0.0643 - acc: 0.9810 - val_loss: 0.0336 - val_acc: 0.9893\n",
            "Epoch 4/12\n",
            "60000/60000 [==============================] - 9s 145us/step - loss: 0.0538 - acc: 0.9844 - val_loss: 0.0306 - val_acc: 0.9901\n",
            "Epoch 5/12\n",
            "60000/60000 [==============================] - 9s 145us/step - loss: 0.0468 - acc: 0.9862 - val_loss: 0.0320 - val_acc: 0.9898\n",
            "Epoch 6/12\n",
            "60000/60000 [==============================] - 9s 146us/step - loss: 0.0422 - acc: 0.9871 - val_loss: 0.0321 - val_acc: 0.9889\n",
            "Epoch 7/12\n",
            "60000/60000 [==============================] - 9s 145us/step - loss: 0.0375 - acc: 0.9886 - val_loss: 0.0282 - val_acc: 0.9911\n",
            "Epoch 8/12\n",
            "60000/60000 [==============================] - 9s 145us/step - loss: 0.0335 - acc: 0.9898 - val_loss: 0.0300 - val_acc: 0.9900\n",
            "Epoch 9/12\n",
            "60000/60000 [==============================] - 9s 145us/step - loss: 0.0322 - acc: 0.9902 - val_loss: 0.0310 - val_acc: 0.9900\n",
            "Epoch 10/12\n",
            "60000/60000 [==============================] - 9s 145us/step - loss: 0.0300 - acc: 0.9903 - val_loss: 0.0284 - val_acc: 0.9915\n",
            "Epoch 11/12\n",
            "60000/60000 [==============================] - 9s 145us/step - loss: 0.0284 - acc: 0.9913 - val_loss: 0.0283 - val_acc: 0.9914\n",
            "Epoch 12/12\n",
            "60000/60000 [==============================] - 9s 145us/step - loss: 0.0264 - acc: 0.9919 - val_loss: 0.0292 - val_acc: 0.9902\n",
            "Test loss: 0.029214834698360573\n",
            "Test accuracy: 0.9902\n"
          ],
          "name": "stdout"
        }
      ]
    },
    {
      "metadata": {
        "id": "HPbXQN-z1l5m",
        "colab_type": "code",
        "colab": {}
      },
      "cell_type": "code",
      "source": [
        ""
      ],
      "execution_count": 0,
      "outputs": []
    }
  ]
}