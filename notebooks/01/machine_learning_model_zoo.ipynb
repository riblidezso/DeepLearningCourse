{
  "nbformat": 4,
  "nbformat_minor": 0,
  "metadata": {
    "colab": {
      "name": "machine_learning_model_zoo.ipynb",
      "version": "0.3.2",
      "provenance": [],
      "collapsed_sections": [],
      "include_colab_link": true
    },
    "kernelspec": {
      "name": "python3",
      "display_name": "Python 3"
    }
  },
  "cells": [
    {
      "cell_type": "markdown",
      "metadata": {
        "id": "view-in-github",
        "colab_type": "text"
      },
      "source": [
        "<a href=\"https://colab.research.google.com/github/riblidezso/DeepLearningCourse/blob/master/notebooks/01/machine_learning_model_zoo.ipynb\" target=\"_parent\"><img src=\"https://colab.research.google.com/assets/colab-badge.svg\" alt=\"Open In Colab\"/></a>"
      ]
    },
    {
      "metadata": {
        "id": "KX8mOPonqg_G",
        "colab_type": "text"
      },
      "cell_type": "markdown",
      "source": [
        "# Model zoo of machine learning \n",
        "\n",
        "----"
      ]
    },
    {
      "metadata": {
        "id": "sB5uJgoWqg_K",
        "colab_type": "text"
      },
      "cell_type": "markdown",
      "source": [
        "### It's not just neural networks!\n",
        "\n",
        "Until now, you have learnt about the elements of neural networks. While neural networks are the focus of this course, they are just one of the tools (surely the most exciting one recently) in machine learning. So before you go deeper in deep neural networks, we want to introduce other models too. \n",
        "\n",
        "Neural networks ( too often referred to as 'AI' nowadays ) are **NOT** always the best tool to solve a problem! Therefore we really want to avoid the situation that we give you a (truly powerful) hammer, and everything seems to look like a nail! Some datasets are not like nails, and require different solutions.\n",
        "\n",
        "Please always taylor your models to the data, not the 'AI' hype."
      ]
    },
    {
      "metadata": {
        "id": "0v5HPKAeqg_O",
        "colab_type": "text"
      },
      "cell_type": "markdown",
      "source": [
        "\n",
        "\n",
        "### Neural networks vs other models\n",
        "\n",
        "Neural networks became immensely popular in the last years, because they perform superbly in the following tasks: computer vision (image recognition/detection/segmentation), natural language processing ( speech recognition, language understanding, etc) and some Google products: game of Go, translation.\n",
        "\n",
        "But they are usually inferior (or not clearly superior) to other solutions in many many problems:\n",
        "* predicting customer behavior based on the company databases: who is unsatisfied and will leave the company, which product should you recommend in a webshop, etc\n",
        "* predicting failed parts in manufacturing based on data measured on the assembly line\n",
        "* predicting stock prices\n",
        "* [playing poker better than humans](https://www.cmu.edu/news/stories/archives/2017/january/AI-beats-poker-pros.html)\n",
        "* etc ( look at kaggle compeitions when the data is not image or sound, all those problems are usually best solved with **not** neural nets)\n",
        "\n",
        "\n",
        "So when should you use neural networks? Oversimplified answer: (and slightly wrong): deep learning for computer vision and natural language processing, probably not deep learning for other datasets.\n",
        "\n",
        "Deeper:\n",
        "* Non neural network models use the input data as it is, and try to guess the output based on the intuition that what is close in X, shall be close in Y.\n",
        "* The layers of neural networks (helped by the humans behind them) are basically learning better and better ( gradually lower dimensional and more correlated with output ) representations of the input data.\n",
        "\n",
        "The distinction then will be:\n",
        "* If the data has a nice and meaningful, unstructured, low dimensional representation then neural networks are probably not the best solution.\n",
        "* If the data has some strong structure (image,voice), it is high dimensional (1MP image has 1 million dimensions!), and it does not have a meaningful low dimensinal representation, neural networks will probably work better than other solutions.\n",
        "\n"
      ]
    },
    {
      "metadata": {
        "id": "Uez0AwQnqg_S",
        "colab_type": "text"
      },
      "cell_type": "markdown",
      "source": [
        "### Other models used here:\n",
        "\n",
        "- K Nearest Neighbors\n",
        "- Decision trees (random forests)\n",
        "- Support vector machines\n",
        "- There are many more useful models. The purpose of this notebook is to open the window.\n",
        "\n"
      ]
    },
    {
      "metadata": {
        "id": "EiEXxF4Xqg_U",
        "colab_type": "text"
      },
      "cell_type": "markdown",
      "source": [
        "\n",
        "## Some additional thoughts:\n",
        "\n",
        "----"
      ]
    },
    {
      "metadata": {
        "id": "Yzc77kYDqg_Y",
        "colab_type": "text"
      },
      "cell_type": "markdown",
      "source": [
        "### Traditional machine learning models are easier to track than deep learning.\n",
        "\n",
        "\n",
        "- Deep learning advances super fast, best solutions are usually 0-2 years old models. \n",
        "- The other models shown here are mostly decades old, and still relevant today (like quantum mechanics :) )\n",
        "- You are mostly expected to use them, and not improve them. Tweak the parameters but rarely tweak the mechanism. Deep Learning models often require deeper knowledge of the model, and more radical modifications.\n",
        "- Therefore we will only give a brief overview about how ther work, unlike the detailed overview of the elements of neural networks in the last weeks.\n",
        "\n"
      ]
    },
    {
      "metadata": {
        "id": "0zB87rFRqg_a",
        "colab_type": "text"
      },
      "cell_type": "markdown",
      "source": [
        "### Superhuman performances / Artificial Intelligence\n",
        "\n",
        "You can read way too often that \"AI\" does this or that as well or better than humans. It is important to put these results into some context.\n",
        "\n",
        "\n",
        "#### Hard problems for humans, easier for machines \n",
        "\n",
        "Traditional machine learning solves problems which are hard for humans. ( **Similarly to calculators ** ). Doing so they almost always reach \"superhuman\" performance. Personally i think it's not very lucky to call that Artifical Intelligence because it is a statsitical modelling which has not much to do with what \"Natural Intelligence\" does.\n",
        "\n",
        "\n",
        "#### Easy problems for humans, harder for machines  \n",
        "\n",
        "Deep Learning usually tries to solve a special subset of 'hard' problems, which humans are able to solve easily, but computers were unable to do it for decades. So it is more reasonable to call these systems Aritifical Intelligence.\n",
        "\n",
        "But still, theese problems are just a well defined subset of tasks humans are able to do:\n",
        "\n",
        "* Visual and audio perception, (translation, text understanding): \"Artificial Perception\", you are not \"intelligent\" if you can recognize a dog, right? They don't show dogs on IQ tests. \n",
        "\n",
        "(More generally deep learning can do things which you can do instinctively, without complex reasoning, in a split second.)\n",
        "\n",
        "---\n",
        "\n",
        "##### Games  \n",
        "\n",
        "A special problems are **games**, which humans do not solve instinctively:\n",
        "\n",
        "Go, this is considered to require intelligence from a human, so is AlphaGo really intelligent? Or is it more like a calucator? Do you think you are intelligent because you can integrate? Mathematica does it better, is it AI?\n",
        "\n",
        "A calculator is clearly not intelligent, Mathematica neither, AlphaGo? ( Because AlphaGo uses neural nets it make it more \"intelligent\"? Stockfish is not considered intelligent, but it is *almost* (?) as good in chess.\n",
        "\n",
        "Board games have a limited world (chess 64 positions) with few rules, and good mechanistic base for the solution (tree search, heuristics (e.g.: with neural net), mcmc tree search). And it can be **simulated**. \n",
        "\n",
        "\n",
        "##### A fully functional agent in the real world\n",
        "\n",
        "The full world need fairly larger representation, has much wider possible steps, and it can not really be simulated. ( Except if we are living in a simulation right? )\n",
        "\n",
        "\n",
        "An article realted to this topic: https://www.quantamagazine.org/why-self-taught-artificial-intelligence-has-trouble-with-the-real-world-20180221/\n",
        "\n",
        "----"
      ]
    },
    {
      "metadata": {
        "id": "NfQYuEU-qg_e",
        "colab_type": "text"
      },
      "cell_type": "markdown",
      "source": [
        "This notebook was created by Dezso Ribli, if you have any remarks or questions, please contact me.\n",
        "\n",
        "---"
      ]
    },
    {
      "metadata": {
        "id": "G0nFMNyUqg_g",
        "colab_type": "code",
        "colab": {}
      },
      "cell_type": "code",
      "source": [
        "%pylab inline  \n",
        "# This 'magic' imports useful general stuff ignore it now"
      ],
      "execution_count": 0,
      "outputs": []
    },
    {
      "metadata": {
        "id": "A2okomftqg_t",
        "colab_type": "code",
        "colab": {}
      },
      "cell_type": "code",
      "source": [
        "import pandas as pd  # data handling toolbox"
      ],
      "execution_count": 0,
      "outputs": []
    },
    {
      "metadata": {
        "id": "DkO9TxCeqg_y",
        "colab_type": "text"
      },
      "cell_type": "markdown",
      "source": [
        "---\n",
        "\n",
        "### [Scikit learn](http://scikit-learn.org/stable/index.html): the python machine learning toolbox\n",
        "\n",
        "This the essential python library for machine learning. It contains models, metrics, and various helper functions, which make life so much easier. \n",
        "\n"
      ]
    },
    {
      "metadata": {
        "id": "6P8h5PXoqg_0",
        "colab_type": "text"
      },
      "cell_type": "markdown",
      "source": [
        "Load some models. See more [models and their details here](http://scikit-learn.org/stable/supervised_learning.html)."
      ]
    },
    {
      "metadata": {
        "id": "Wnk-p25fqg_1",
        "colab_type": "code",
        "colab": {}
      },
      "cell_type": "code",
      "source": [
        "from sklearn import linear_model\n",
        "from sklearn import neighbors\n",
        "from sklearn import tree\n",
        "from sklearn import ensemble\n",
        "from sklearn import svm\n",
        "from sklearn import neural_network"
      ],
      "execution_count": 0,
      "outputs": []
    },
    {
      "metadata": {
        "id": "83553yvJqg_5",
        "colab_type": "text"
      },
      "cell_type": "markdown",
      "source": [
        "Load a cross validation wrapper, and a normalizer"
      ]
    },
    {
      "metadata": {
        "id": "HcAREc4cqg_7",
        "colab_type": "code",
        "colab": {}
      },
      "cell_type": "code",
      "source": [
        "from sklearn.model_selection import cross_val_score\n",
        "from sklearn.preprocessing import StandardScaler"
      ],
      "execution_count": 0,
      "outputs": []
    },
    {
      "metadata": {
        "id": "9902SskEqg__",
        "colab_type": "text"
      },
      "cell_type": "markdown",
      "source": [
        "Let's wrap the wrapper. "
      ]
    },
    {
      "metadata": {
        "id": "Lzh5bzNoqhAA",
        "colab_type": "code",
        "colab": {}
      },
      "cell_type": "code",
      "source": [
        "def testClass(model,x,y):\n",
        "    \"\"\"Test a model.\"\"\"\n",
        "    # get CV scores\n",
        "    acc = cross_val_score(model, x, y, cv=5)\n",
        "    # eval them\n",
        "    print('Accuracy: %.2f +/- %.2f' % (100*mean(acc),100*std(acc)))"
      ],
      "execution_count": 0,
      "outputs": []
    },
    {
      "metadata": {
        "id": "mIr96ovfqhAC",
        "colab_type": "text"
      },
      "cell_type": "markdown",
      "source": [
        "\n",
        "---\n",
        "\n",
        "### A classification dataset: finding the Higgs boson\n",
        "\n",
        "\n",
        "\n",
        "The task is to identify the Higgs boson in simulated events.\n",
        "* Inputs are various physical properties of events. \n",
        "* The labels indicate wheter this event corresponds to the Higgs boson or not.\n",
        "\n",
        "\n",
        "The dataset is hosted [here](http://opendata.cern.ch/record/328), and it was used in a [kaggle challenge](https://www.kaggle.com/c/Higgs-boson)."
      ]
    },
    {
      "metadata": {
        "id": "YLkQmRpWqvlB",
        "colab_type": "code",
        "colab": {}
      },
      "cell_type": "code",
      "source": [
        "!wget http://opendata.cern.ch/record/328/files/atlas-higgs-challenge-2014-v2.csv.gz"
      ],
      "execution_count": 0,
      "outputs": []
    },
    {
      "metadata": {
        "id": "yLfli4OFqhAD",
        "colab_type": "text"
      },
      "cell_type": "markdown",
      "source": [
        "##### Lets load the data and have a look at it:\n",
        "\n",
        "It has 800k rows (data points), and 32 columns (variables)."
      ]
    },
    {
      "metadata": {
        "id": "YCTtQgDGqhAD",
        "colab_type": "code",
        "colab": {}
      },
      "cell_type": "code",
      "source": [
        "cls_data = pd.read_csv('atlas-higgs-challenge-2014-v2.csv.gz')  # load it\n",
        "print(cls_data.shape)\n",
        "cls_data.head()  # peek"
      ],
      "execution_count": 0,
      "outputs": []
    },
    {
      "metadata": {
        "id": "LQJC0wg9qhAJ",
        "colab_type": "text"
      },
      "cell_type": "markdown",
      "source": [
        " Create X,Y matrices."
      ]
    },
    {
      "metadata": {
        "id": "j7HFtHC1qhAK",
        "colab_type": "code",
        "colab": {}
      },
      "cell_type": "code",
      "source": [
        "x = cls_data.head(10000).drop(['EventId','KaggleSet','KaggleWeight','Label'],axis=1).values\n",
        "y = cls_data.head(10000).Label.values"
      ],
      "execution_count": 0,
      "outputs": []
    },
    {
      "metadata": {
        "id": "D-qvd4Mjrxx0",
        "colab_type": "text"
      },
      "cell_type": "markdown",
      "source": [
        "Normalize input values"
      ]
    },
    {
      "metadata": {
        "id": "ltY5R_1krj7c",
        "colab_type": "code",
        "colab": {}
      },
      "cell_type": "code",
      "source": [
        "x = StandardScaler().fit(x).transform(x)"
      ],
      "execution_count": 0,
      "outputs": []
    },
    {
      "metadata": {
        "id": "VIOunhxRqhAM",
        "colab_type": "text"
      },
      "cell_type": "markdown",
      "source": [
        "### OK, lets try some models!"
      ]
    },
    {
      "metadata": {
        "id": "DtOxuaVQqhAN",
        "colab_type": "code",
        "colab": {}
      },
      "cell_type": "code",
      "source": [
        "%%time\n",
        "testClass(linear_model.LogisticRegression(), x, y)"
      ],
      "execution_count": 0,
      "outputs": []
    },
    {
      "metadata": {
        "id": "SAObKvHBqhAQ",
        "colab_type": "code",
        "colab": {}
      },
      "cell_type": "code",
      "source": [
        "%%time\n",
        "testClass(neural_network.MLPClassifier(), x, y)"
      ],
      "execution_count": 0,
      "outputs": []
    },
    {
      "metadata": {
        "id": "dhTeDLy5qhAU",
        "colab_type": "code",
        "colab": {}
      },
      "cell_type": "code",
      "source": [
        "%%time\n",
        "testClass(neighbors.KNeighborsClassifier(), x, y)"
      ],
      "execution_count": 0,
      "outputs": []
    },
    {
      "metadata": {
        "id": "VwcjNQLmqhAZ",
        "colab_type": "code",
        "colab": {}
      },
      "cell_type": "code",
      "source": [
        "%%time\n",
        "testClass(tree.DecisionTreeClassifier(), x, y)"
      ],
      "execution_count": 0,
      "outputs": []
    },
    {
      "metadata": {
        "id": "VXWNMuGuqhAd",
        "colab_type": "code",
        "colab": {}
      },
      "cell_type": "code",
      "source": [
        "%%time\n",
        "testClass(ensemble.RandomForestClassifier(), x, y)"
      ],
      "execution_count": 0,
      "outputs": []
    },
    {
      "metadata": {
        "id": "k5RplWOvqhAg",
        "colab_type": "code",
        "colab": {}
      },
      "cell_type": "code",
      "source": [
        "%%time\n",
        "testClass(svm.SVC(), x, y)"
      ],
      "execution_count": 0,
      "outputs": []
    },
    {
      "metadata": {
        "id": "FqncaTlRqhAj",
        "colab_type": "text"
      },
      "cell_type": "markdown",
      "source": [
        "----\n",
        "\n",
        "\n",
        "## A regression dataset: age and DNA methylation\n",
        "\n",
        "Interestingly there is no simple way to guess the age of a person. We are not trees, there are no rings inside us. This can lead to some [interesting situations](https://www.theguardian.com/world/2016/apr/21/canadian-high-school-basketball-star-jonathan-nicola-refugee).\n",
        "\n",
        "There are various methods using bones (featured in CSI) or teeth, but here we will show another method, a simple and surprisingly accurate blood test.\n",
        "\n",
        "The dataset consists of some 'epigenetic' markers on their DNA, called 'methylation'. Each variable represents a specific point in the genome, and their value corresponds to the level of 'methylation' of that position. Methylation is a simple chemical modification of the DNA naturally applied by all cells.\n",
        "\n",
        "![src](http://helicase.pbworks.com/f/DNAmeth.jpg)\n",
        "\n",
        "The task will be: Predict the age of people based on their 'methylation' values.\n",
        "\n",
        "\n",
        "[Data source](https://www.ncbi.nlm.nih.gov/pubmed/23177740?dopt=Abstract)"
      ]
    },
    {
      "metadata": {
        "id": "Mb1hm1JcqhAj",
        "colab_type": "text"
      },
      "cell_type": "markdown",
      "source": [
        "##### Lets load the data and have a look at it:\n",
        "\n",
        "It has 656 rows (data points/individuals), and 6000 columns (variables).\n",
        "\n",
        "** Note, a lot more variables than data points! **"
      ]
    },
    {
      "metadata": {
        "id": "EGZUlSBNtmuO",
        "colab_type": "code",
        "colab": {}
      },
      "cell_type": "code",
      "source": [
        "!wget dkrib.web.elte.hu/deeplearning/data/meta_small.csv"
      ],
      "execution_count": 0,
      "outputs": []
    },
    {
      "metadata": {
        "id": "dfv1Ker5qhAk",
        "colab_type": "code",
        "colab": {}
      },
      "cell_type": "code",
      "source": [
        "reg_data = pd.read_csv('meta_small.csv')\n",
        "print(reg_data.shape)\n",
        "reg_data.head()"
      ],
      "execution_count": 0,
      "outputs": []
    },
    {
      "metadata": {
        "id": "4XsVi-PLqhAn",
        "colab_type": "text"
      },
      "cell_type": "markdown",
      "source": [
        "Create X,Y matrices."
      ]
    },
    {
      "metadata": {
        "id": "6n0aDzy7qhAp",
        "colab_type": "code",
        "colab": {}
      },
      "cell_type": "code",
      "source": [
        "x = reg_data.drop(['age'],axis=1).values\n",
        "y = reg_data.age.values"
      ],
      "execution_count": 0,
      "outputs": []
    },
    {
      "metadata": {
        "id": "A1IDn9yqqhAs",
        "colab_type": "text"
      },
      "cell_type": "markdown",
      "source": [
        "----\n",
        "\n",
        "Let's load a different wrapper this time, which gives us back the individual predictions, not just scores. This way we score the models ourselves the way we like it, and we can plot results."
      ]
    },
    {
      "metadata": {
        "id": "u1k-rK9rqhAt",
        "colab_type": "code",
        "colab": {}
      },
      "cell_type": "code",
      "source": [
        "from sklearn.model_selection import cross_val_predict"
      ],
      "execution_count": 0,
      "outputs": []
    },
    {
      "metadata": {
        "id": "_-RI2G7JqhAu",
        "colab_type": "text"
      },
      "cell_type": "markdown",
      "source": [
        "Wrap it!"
      ]
    },
    {
      "metadata": {
        "id": "4dvXUSKXqhAv",
        "colab_type": "code",
        "colab": {}
      },
      "cell_type": "code",
      "source": [
        "def testReg(model, x, y):\n",
        "    \"\"\"Test a model.\"\"\"\n",
        "    y_pred = cross_val_predict(model, x, y, cv=5)  \n",
        "        \n",
        "    plot(y,y_pred,'.')  # plot data points\n",
        "    plot([15,90],[15,90])  # y = x line for reference\n",
        "    xlabel('age')  # label, labels, labels\n",
        "    ylabel('predicted age') # and labels\n",
        "\n",
        "    print('RMSE:',((y-y_pred)**2).mean()**0.5)  # primary metric\n",
        "    print('Pearson corr:',np.corrcoef(y,y_pred)[0,1])  # another one"
      ],
      "execution_count": 0,
      "outputs": []
    },
    {
      "metadata": {
        "id": "cLC76s9fqhAy",
        "colab_type": "text"
      },
      "cell_type": "markdown",
      "source": [
        "### Let's model!"
      ]
    },
    {
      "metadata": {
        "id": "6-I2NOfLqhAz",
        "colab_type": "code",
        "colab": {}
      },
      "cell_type": "code",
      "source": [
        "# It should not work right? Lot more variables than data points\n",
        "# It's some kind of magic!\n",
        "testReg(linear_model.LinearRegression(), x, y)"
      ],
      "execution_count": 0,
      "outputs": []
    },
    {
      "metadata": {
        "id": "KrxMTN6eqhA2",
        "colab_type": "code",
        "colab": {}
      },
      "cell_type": "code",
      "source": [
        "# It actually fails if number of data points ~ number of params\n",
        "testReg(linear_model.LinearRegression(), x[:,:520], y)"
      ],
      "execution_count": 0,
      "outputs": []
    },
    {
      "metadata": {
        "id": "ISLRTHJyqhA5",
        "colab_type": "code",
        "colab": {}
      },
      "cell_type": "code",
      "source": [
        "# The failure was not due to lack of info in the inputs\n",
        "# It works with a lot fewer params too\n",
        "testReg(linear_model.LinearRegression(), x[:,:50], y)"
      ],
      "execution_count": 0,
      "outputs": []
    },
    {
      "metadata": {
        "id": "6cQcCBJXqhA8",
        "colab_type": "code",
        "colab": {}
      },
      "cell_type": "code",
      "source": [
        "# With more variables than data points we should use\n",
        "# explicit regularisation!!!\n",
        "testReg(linear_model.Ridge(), x, y)"
      ],
      "execution_count": 0,
      "outputs": []
    },
    {
      "metadata": {
        "id": "nlP7GEHPqhA_",
        "colab_type": "code",
        "colab": {}
      },
      "cell_type": "code",
      "source": [
        "testReg(neural_network.MLPRegressor(), x, y)  "
      ],
      "execution_count": 0,
      "outputs": []
    },
    {
      "metadata": {
        "id": "olQ0Wh0hqhBD",
        "colab_type": "code",
        "colab": {}
      },
      "cell_type": "code",
      "source": [
        "testReg(neighbors.KNeighborsRegressor(), x, y)"
      ],
      "execution_count": 0,
      "outputs": []
    },
    {
      "metadata": {
        "id": "I_n3GG7uqhBG",
        "colab_type": "code",
        "colab": {}
      },
      "cell_type": "code",
      "source": [
        "testReg(tree.DecisionTreeRegressor(), x, y)"
      ],
      "execution_count": 0,
      "outputs": []
    },
    {
      "metadata": {
        "id": "ayMrA_ThqhBJ",
        "colab_type": "code",
        "colab": {}
      },
      "cell_type": "code",
      "source": [
        "testReg(ensemble.RandomForestRegressor(n_jobs=-1), x, y)"
      ],
      "execution_count": 0,
      "outputs": []
    },
    {
      "metadata": {
        "id": "0wBBmVQuqhBM",
        "colab_type": "code",
        "colab": {}
      },
      "cell_type": "code",
      "source": [
        "testReg(svm.SVR(), x, y)  # just doesnt work ..."
      ],
      "execution_count": 0,
      "outputs": []
    },
    {
      "metadata": {
        "id": "rxXcxVbVqhBO",
        "colab_type": "code",
        "colab": {}
      },
      "cell_type": "code",
      "source": [
        "# Can it be again that it's under determined?\n",
        "testReg(svm.SVR(), x[:,:50], y)\n",
        "# Nope"
      ],
      "execution_count": 0,
      "outputs": []
    },
    {
      "metadata": {
        "id": "sT0FdgKQqhBQ",
        "colab_type": "code",
        "colab": {}
      },
      "cell_type": "code",
      "source": [
        "testReg(svm.SVR(C=1000.), x, y)  \n",
        "# Now it works but is just looks like the linear fit..."
      ],
      "execution_count": 0,
      "outputs": []
    },
    {
      "metadata": {
        "id": "upVdwtt6qhBT",
        "colab_type": "text"
      },
      "cell_type": "markdown",
      "source": [
        "----\n",
        "\n",
        "\n",
        "# Messages:\n",
        "\n",
        "\n",
        "* Scikit-learn is your best friend.\n",
        "* There is no single best model. Different models work well in different problems. (Even SVM can be excellent ;) )\n",
        "\n",
        "* The model's have settings!\n",
        "\n",
        "You have to develop an intuition in order to avoid extensive model/hyperparameter search!"
      ]
    },
    {
      "metadata": {
        "id": "wYH4AGMtqhBT",
        "colab_type": "text"
      },
      "cell_type": "markdown",
      "source": [
        "---\n",
        "\n",
        "# More\n",
        "\n",
        "* There are [plenty of other models too in sklearn](http://scikit-learn.org/stable/supervised_learning.html)\n",
        "* There are lot of models outside sklearn. Most notably:\n",
        "    * A Gradient Boosted Trees implementation called [XGBoost](http://xgboost.readthedocs.io/en/latest/)\n",
        "    * Neural networks ( an army of frameworks, but for beginners: [Keras](https://keras.io) )"
      ]
    }
  ]
}